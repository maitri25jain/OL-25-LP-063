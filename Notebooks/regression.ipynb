{
 "cells": [
  {
   "cell_type": "markdown",
   "id": "0a2c6e9a",
   "metadata": {},
   "source": [
    "REGRESSION TASK\n",
    "\n",
    "Objective: Predict the respondent's age"
   ]
  },
  {
   "cell_type": "markdown",
   "id": "2cb18ef2",
   "metadata": {},
   "source": [
    "Importing Libraries:"
   ]
  },
  {
   "cell_type": "code",
   "execution_count": 1,
   "id": "f52358af",
   "metadata": {},
   "outputs": [],
   "source": [
    "import pandas as pd\n",
    "import numpy as np\n",
    "import matplotlib.pyplot as plt\n",
    "import seaborn as sns\n",
    "import joblib\n",
    "\n",
    "from sklearn.model_selection import train_test_split, GridSearchCV, cross_val_score\n",
    "from sklearn.preprocessing import StandardScaler, OneHotEncoder\n",
    "from sklearn.compose import ColumnTransformer\n",
    "from sklearn.pipeline import Pipeline\n",
    "from sklearn.linear_model import LinearRegression, Ridge\n",
    "from sklearn.ensemble import RandomForestRegressor\n",
    "from sklearn.metrics import mean_squared_error, mean_absolute_error, r2_score, root_mean_squared_error\n",
    "import warnings\n",
    "warnings.filterwarnings('ignore')\n"
   ]
  },
  {
   "cell_type": "markdown",
   "id": "8069042e",
   "metadata": {},
   "source": [
    "Loading the dataframe built in EDA:"
   ]
  },
  {
   "cell_type": "code",
   "execution_count": 2,
   "id": "f36ba8cc",
   "metadata": {},
   "outputs": [
    {
     "name": "stdout",
     "output_type": "stream",
     "text": [
      "(931, 23)\n",
      "Index(['Age', 'Gender', 'Country', 'family_history', 'treatment',\n",
      "       'work_interfere', 'no_employees', 'remote_work', 'benefits',\n",
      "       'care_options', 'wellness_program', 'seek_help', 'anonymity', 'leave',\n",
      "       'mental_health_consequence', 'phys_health_consequence', 'coworkers',\n",
      "       'supervisor', 'mental_health_interview', 'phys_health_interview',\n",
      "       'mental_vs_physical', 'obs_consequence', 'company_size'],\n",
      "      dtype='object')\n"
     ]
    },
    {
     "data": {
      "text/html": [
       "<div>\n",
       "<style scoped>\n",
       "    .dataframe tbody tr th:only-of-type {\n",
       "        vertical-align: middle;\n",
       "    }\n",
       "\n",
       "    .dataframe tbody tr th {\n",
       "        vertical-align: top;\n",
       "    }\n",
       "\n",
       "    .dataframe thead th {\n",
       "        text-align: right;\n",
       "    }\n",
       "</style>\n",
       "<table border=\"1\" class=\"dataframe\">\n",
       "  <thead>\n",
       "    <tr style=\"text-align: right;\">\n",
       "      <th></th>\n",
       "      <th>Age</th>\n",
       "      <th>Gender</th>\n",
       "      <th>Country</th>\n",
       "      <th>family_history</th>\n",
       "      <th>treatment</th>\n",
       "      <th>work_interfere</th>\n",
       "      <th>no_employees</th>\n",
       "      <th>remote_work</th>\n",
       "      <th>benefits</th>\n",
       "      <th>care_options</th>\n",
       "      <th>...</th>\n",
       "      <th>leave</th>\n",
       "      <th>mental_health_consequence</th>\n",
       "      <th>phys_health_consequence</th>\n",
       "      <th>coworkers</th>\n",
       "      <th>supervisor</th>\n",
       "      <th>mental_health_interview</th>\n",
       "      <th>phys_health_interview</th>\n",
       "      <th>mental_vs_physical</th>\n",
       "      <th>obs_consequence</th>\n",
       "      <th>company_size</th>\n",
       "    </tr>\n",
       "  </thead>\n",
       "  <tbody>\n",
       "    <tr>\n",
       "      <th>0</th>\n",
       "      <td>37</td>\n",
       "      <td>Female</td>\n",
       "      <td>United States</td>\n",
       "      <td>No</td>\n",
       "      <td>Yes</td>\n",
       "      <td>Often</td>\n",
       "      <td>Small</td>\n",
       "      <td>No</td>\n",
       "      <td>Yes</td>\n",
       "      <td>Not sure</td>\n",
       "      <td>...</td>\n",
       "      <td>Easy</td>\n",
       "      <td>No</td>\n",
       "      <td>No</td>\n",
       "      <td>Yes</td>\n",
       "      <td>Yes</td>\n",
       "      <td>No</td>\n",
       "      <td>Maybe</td>\n",
       "      <td>Yes</td>\n",
       "      <td>No</td>\n",
       "      <td>1</td>\n",
       "    </tr>\n",
       "    <tr>\n",
       "      <th>2</th>\n",
       "      <td>32</td>\n",
       "      <td>Male</td>\n",
       "      <td>Canada</td>\n",
       "      <td>No</td>\n",
       "      <td>No</td>\n",
       "      <td>Rarely</td>\n",
       "      <td>Small</td>\n",
       "      <td>No</td>\n",
       "      <td>No</td>\n",
       "      <td>No</td>\n",
       "      <td>...</td>\n",
       "      <td>Difficult</td>\n",
       "      <td>No</td>\n",
       "      <td>No</td>\n",
       "      <td>Yes</td>\n",
       "      <td>Yes</td>\n",
       "      <td>Yes</td>\n",
       "      <td>Yes</td>\n",
       "      <td>No</td>\n",
       "      <td>No</td>\n",
       "      <td>1</td>\n",
       "    </tr>\n",
       "    <tr>\n",
       "      <th>3</th>\n",
       "      <td>31</td>\n",
       "      <td>Male</td>\n",
       "      <td>United Kingdom</td>\n",
       "      <td>Yes</td>\n",
       "      <td>Yes</td>\n",
       "      <td>Often</td>\n",
       "      <td>Medium</td>\n",
       "      <td>No</td>\n",
       "      <td>No</td>\n",
       "      <td>Yes</td>\n",
       "      <td>...</td>\n",
       "      <td>Difficult</td>\n",
       "      <td>Yes</td>\n",
       "      <td>Yes</td>\n",
       "      <td>Yes</td>\n",
       "      <td>No</td>\n",
       "      <td>Maybe</td>\n",
       "      <td>Maybe</td>\n",
       "      <td>No</td>\n",
       "      <td>Yes</td>\n",
       "      <td>2</td>\n",
       "    </tr>\n",
       "    <tr>\n",
       "      <th>4</th>\n",
       "      <td>31</td>\n",
       "      <td>Male</td>\n",
       "      <td>United States</td>\n",
       "      <td>No</td>\n",
       "      <td>No</td>\n",
       "      <td>Never</td>\n",
       "      <td>Medium</td>\n",
       "      <td>Yes</td>\n",
       "      <td>Yes</td>\n",
       "      <td>No</td>\n",
       "      <td>...</td>\n",
       "      <td>Don't know</td>\n",
       "      <td>No</td>\n",
       "      <td>No</td>\n",
       "      <td>Yes</td>\n",
       "      <td>Yes</td>\n",
       "      <td>Yes</td>\n",
       "      <td>Yes</td>\n",
       "      <td>Don't know</td>\n",
       "      <td>No</td>\n",
       "      <td>2</td>\n",
       "    </tr>\n",
       "    <tr>\n",
       "      <th>5</th>\n",
       "      <td>33</td>\n",
       "      <td>Male</td>\n",
       "      <td>United States</td>\n",
       "      <td>Yes</td>\n",
       "      <td>No</td>\n",
       "      <td>Sometimes</td>\n",
       "      <td>Small</td>\n",
       "      <td>No</td>\n",
       "      <td>Yes</td>\n",
       "      <td>Not sure</td>\n",
       "      <td>...</td>\n",
       "      <td>Don't know</td>\n",
       "      <td>No</td>\n",
       "      <td>No</td>\n",
       "      <td>Yes</td>\n",
       "      <td>Yes</td>\n",
       "      <td>No</td>\n",
       "      <td>Maybe</td>\n",
       "      <td>Don't know</td>\n",
       "      <td>No</td>\n",
       "      <td>1</td>\n",
       "    </tr>\n",
       "  </tbody>\n",
       "</table>\n",
       "<p>5 rows × 23 columns</p>\n",
       "</div>"
      ],
      "text/plain": [
       "   Age  Gender         Country family_history treatment work_interfere  \\\n",
       "0   37  Female   United States             No       Yes          Often   \n",
       "2   32    Male          Canada             No        No         Rarely   \n",
       "3   31    Male  United Kingdom            Yes       Yes          Often   \n",
       "4   31    Male   United States             No        No          Never   \n",
       "5   33    Male   United States            Yes        No      Sometimes   \n",
       "\n",
       "  no_employees remote_work benefits care_options  ...       leave  \\\n",
       "0        Small          No      Yes     Not sure  ...        Easy   \n",
       "2        Small          No       No           No  ...   Difficult   \n",
       "3       Medium          No       No          Yes  ...   Difficult   \n",
       "4       Medium         Yes      Yes           No  ...  Don't know   \n",
       "5        Small          No      Yes     Not sure  ...  Don't know   \n",
       "\n",
       "  mental_health_consequence phys_health_consequence coworkers supervisor  \\\n",
       "0                        No                      No       Yes        Yes   \n",
       "2                        No                      No       Yes        Yes   \n",
       "3                       Yes                     Yes       Yes         No   \n",
       "4                        No                      No       Yes        Yes   \n",
       "5                        No                      No       Yes        Yes   \n",
       "\n",
       "  mental_health_interview phys_health_interview mental_vs_physical  \\\n",
       "0                      No                 Maybe                Yes   \n",
       "2                     Yes                   Yes                 No   \n",
       "3                   Maybe                 Maybe                 No   \n",
       "4                     Yes                   Yes         Don't know   \n",
       "5                      No                 Maybe         Don't know   \n",
       "\n",
       "  obs_consequence company_size  \n",
       "0              No            1  \n",
       "2              No            1  \n",
       "3             Yes            2  \n",
       "4              No            2  \n",
       "5              No            1  \n",
       "\n",
       "[5 rows x 23 columns]"
      ]
     },
     "execution_count": 2,
     "metadata": {},
     "output_type": "execute_result"
    }
   ],
   "source": [
    "df= joblib.load(\"../Models & Dataset/df.pkl\")\n",
    "print(df.shape)\n",
    "print(df.columns)\n",
    "df.head()\n"
   ]
  },
  {
   "cell_type": "markdown",
   "id": "16bdf384",
   "metadata": {},
   "source": [
    "Splitting features and target variable:"
   ]
  },
  {
   "cell_type": "code",
   "execution_count": 3,
   "id": "3011b2e4",
   "metadata": {},
   "outputs": [],
   "source": [
    "X= df.drop(columns=['Country','phys_health_consequence','mental_health_interview','phys_health_interview','mental_vs_physical', 'Age', 'company_size'])\n",
    "y= df['Age']\n",
    "\n",
    "X_train, X_test, y_train, y_test= train_test_split(X, y, test_size=0.2, random_state=42)"
   ]
  },
  {
   "cell_type": "code",
   "execution_count": 4,
   "id": "1997e109",
   "metadata": {},
   "outputs": [],
   "source": [
    "# Separating numerical and categorical columns\n",
    "categ_col= ['Gender','treatment','family_history','work_interfere', 'no_employees', 'remote_work', 'benefits',\n",
    "       'care_options', 'wellness_program', 'seek_help', 'anonymity', 'leave',\n",
    "       'mental_health_consequence','coworkers','supervisor','obs_consequence']"
   ]
  },
  {
   "cell_type": "markdown",
   "id": "e52b3747",
   "metadata": {},
   "source": [
    "Preprocessing:"
   ]
  },
  {
   "cell_type": "code",
   "execution_count": 5,
   "id": "6051f860",
   "metadata": {},
   "outputs": [],
   "source": [
    "preprocessor= ColumnTransformer([(\"categ\", OneHotEncoder(handle_unknown='ignore'), categ_col)])\n",
    "\n"
   ]
  },
  {
   "cell_type": "markdown",
   "id": "c951f009",
   "metadata": {},
   "source": [
    "Training & Evaluating Models:"
   ]
  },
  {
   "cell_type": "markdown",
   "id": "c0dc86f0",
   "metadata": {},
   "source": [
    "Linear Regression:"
   ]
  },
  {
   "cell_type": "code",
   "execution_count": 6,
   "id": "8a93000c",
   "metadata": {},
   "outputs": [
    {
     "name": "stdout",
     "output_type": "stream",
     "text": [
      "Linear Regression\n",
      "    RMSE: 7.298\n",
      "    MAE: 5.380\n",
      "    R²: -0.008\n"
     ]
    }
   ],
   "source": [
    "pipe_lr = Pipeline([\n",
    "    (\"preprocess\", preprocessor),\n",
    "    (\"regressor\", LinearRegression())\n",
    "])\n",
    "pipe_lr.fit(X_train, y_train)\n",
    "y_pred_lr = pipe_lr.predict(X_test)\n",
    "\n",
    "print(\"Linear Regression\")\n",
    "print(f\"    RMSE: {root_mean_squared_error(y_test, y_pred_lr):.3f}\")\n",
    "print(f\"    MAE: {mean_absolute_error(y_test, y_pred_lr):.3f}\")\n",
    "print(f\"    R²: {r2_score(y_test, y_pred_lr):.3f}\")\n"
   ]
  },
  {
   "cell_type": "markdown",
   "id": "5ce360ae",
   "metadata": {},
   "source": [
    "Ridge Regression:"
   ]
  },
  {
   "cell_type": "code",
   "execution_count": 7,
   "id": "0c5baa4e",
   "metadata": {},
   "outputs": [
    {
     "name": "stdout",
     "output_type": "stream",
     "text": [
      "Ridge Regression\n",
      "Best Params: {'regressor__alpha': 100}\n",
      "RMSE: 7.188\n",
      "MAE: 5.281\n",
      "R²: 0.022\n"
     ]
    }
   ],
   "source": [
    "param_ridge= {\"regressor__alpha\": [0.01, 0.1, 1, 10, 100]}\n",
    "pipe_ridge= Pipeline([ (\"preprocess\", preprocessor), (\"regressor\", Ridge(random_state=42))])\n",
    "\n",
    "grid_ridge= GridSearchCV(pipe_ridge, param_ridge, cv=5, scoring=\"neg_mean_squared_error\", n_jobs=-1)\n",
    "grid_ridge.fit(X_train, y_train)\n",
    "best_ridge = grid_ridge.best_estimator_\n",
    "y_pred_ridge= grid_ridge.predict(X_test)\n",
    "\n",
    "print(\"Ridge Regression\")\n",
    "print(\"Best Params:\", grid_ridge.best_params_)\n",
    "print(f\"RMSE: {root_mean_squared_error(y_test, y_pred_ridge):.3f}\")\n",
    "print(f\"MAE: {mean_absolute_error(y_test, y_pred_ridge):.3f}\")\n",
    "print(f\"R²: {r2_score(y_test, y_pred_ridge):.3f}\")\n"
   ]
  },
  {
   "cell_type": "markdown",
   "id": "60fc8219",
   "metadata": {},
   "source": [
    "Random Forest:"
   ]
  },
  {
   "cell_type": "code",
   "execution_count": 8,
   "id": "dc8f84ea",
   "metadata": {},
   "outputs": [
    {
     "name": "stdout",
     "output_type": "stream",
     "text": [
      "Random Forest Regression\n",
      "Best Params: {'regressor__max_depth': 10, 'regressor__max_features': 'sqrt', 'regressor__min_samples_leaf': 1, 'regressor__min_samples_split': 5, 'regressor__n_estimators': 300}\n",
      "RMSE: 7.139\n",
      "MAE: 5.324\n",
      "R²: 0.035\n"
     ]
    }
   ],
   "source": [
    "param_rf = {\"regressor__n_estimators\": [100, 300],\n",
    "            \"regressor__max_depth\": [None, 5, 10],\n",
    "            'regressor__min_samples_split': [2, 5],\n",
    "            'regressor__min_samples_leaf': [1, 2],\n",
    "            \"regressor__max_features\": [\"sqrt\", \"log2\"]}\n",
    "pipe_rf = Pipeline([(\"preprocess\", preprocessor), (\"regressor\", RandomForestRegressor(random_state=42))])\n",
    "\n",
    "grid_rf = GridSearchCV(pipe_rf, param_rf, cv=5, scoring=\"neg_root_mean_squared_error\", n_jobs=-1)\n",
    "grid_rf.fit(X_train, y_train)\n",
    "best_rf = grid_rf.best_estimator_\n",
    "y_pred_rf = grid_rf.predict(X_test)\n",
    "\n",
    "print(\"Random Forest Regression\")\n",
    "print(\"Best Params:\", grid_rf.best_params_)\n",
    "print(f\"RMSE: {root_mean_squared_error(y_test, y_pred_rf):.3f}\")\n",
    "print(f\"MAE: {mean_absolute_error(y_test, y_pred_rf):.3f}\")\n",
    "print(f\"R²: {r2_score(y_test, y_pred_rf):.3f}\")"
   ]
  },
  {
   "cell_type": "markdown",
   "id": "9bb2aea6",
   "metadata": {},
   "source": [
    "Comparing the Models:"
   ]
  },
  {
   "cell_type": "code",
   "execution_count": 9,
   "id": "dc9583b9",
   "metadata": {},
   "outputs": [
    {
     "name": "stdout",
     "output_type": "stream",
     "text": [
      "Regression Model Comparison:\n",
      "\n",
      "               Model      RMSE       MAE        R²\n",
      "2      Random Forest  7.138772  5.324423  0.035320\n",
      "1   Ridge Regression  7.188178  5.280633  0.021921\n",
      "0  Linear Regression  7.297668  5.379905 -0.008102\n"
     ]
    }
   ],
   "source": [
    "results=[]\n",
    "\n",
    "def evaluate_model(name, model, X_test, y_test):\n",
    "    y_pred = model.predict(X_test)\n",
    "    rmse = np.sqrt(mean_squared_error(y_test, y_pred))\n",
    "    mae = mean_absolute_error(y_test, y_pred)\n",
    "    r2 = r2_score(y_test, y_pred)\n",
    "    results.append({\n",
    "        \"Model\": name,\n",
    "        \"RMSE\": rmse,\n",
    "        \"MAE\": mae,\n",
    "        \"R²\": r2\n",
    "    })\n",
    "\n",
    "evaluate_model(\"Linear Regression\", pipe_lr, X_test, y_test)\n",
    "evaluate_model(\"Ridge Regression\", best_ridge, X_test, y_test)\n",
    "evaluate_model(\"Random Forest\", best_rf, X_test, y_test)\n",
    "\n",
    "results_df= pd.DataFrame(results)\n",
    "results_df= results_df.sort_values(by='R²', ascending=False)\n",
    "\n",
    "print(\"Regression Model Comparison:\\n\")\n",
    "print(results_df)\n"
   ]
  },
  {
   "cell_type": "code",
   "execution_count": 10,
   "id": "5426037f",
   "metadata": {},
   "outputs": [
    {
     "data": {
      "text/plain": [
       "['../Models & Dataset/regression_model.pkl']"
      ]
     },
     "execution_count": 10,
     "metadata": {},
     "output_type": "execute_result"
    }
   ],
   "source": [
    "joblib.dump(best_rf, '../Models & Dataset/regression_model.pkl')"
   ]
  }
 ],
 "metadata": {
  "kernelspec": {
   "display_name": "Python 3",
   "language": "python",
   "name": "python3"
  },
  "language_info": {
   "codemirror_mode": {
    "name": "ipython",
    "version": 3
   },
   "file_extension": ".py",
   "mimetype": "text/x-python",
   "name": "python",
   "nbconvert_exporter": "python",
   "pygments_lexer": "ipython3",
   "version": "3.13.2"
  }
 },
 "nbformat": 4,
 "nbformat_minor": 5
}
