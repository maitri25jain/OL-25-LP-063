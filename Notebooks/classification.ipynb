{
 "cells": [
  {
   "cell_type": "markdown",
   "id": "06fe6704",
   "metadata": {},
   "source": [
    "CLASSIFICATION TASK\n",
    "\n",
    "Objective: Predict whether a person is likely to seek mental health treatment (treatment column: yes/no)"
   ]
  },
  {
   "cell_type": "markdown",
   "id": "e88785e8",
   "metadata": {},
   "source": [
    "Importing Libraries:"
   ]
  },
  {
   "cell_type": "code",
   "execution_count": 1,
   "id": "d2886a3a",
   "metadata": {},
   "outputs": [],
   "source": [
    "import pandas as pd\n",
    "import numpy as np\n",
    "import matplotlib.pyplot as plt\n",
    "import joblib\n",
    "\n",
    "from sklearn.model_selection import train_test_split, cross_val_score, GridSearchCV\n",
    "from sklearn.preprocessing import StandardScaler, OneHotEncoder\n",
    "from sklearn.compose import ColumnTransformer\n",
    "from sklearn.pipeline import Pipeline\n",
    "from sklearn.linear_model import LogisticRegression\n",
    "from sklearn.ensemble import RandomForestClassifier\n",
    "from sklearn.svm import SVC\n",
    "from sklearn.neighbors import KNeighborsClassifier\n",
    "from sklearn.metrics import accuracy_score, classification_report, confusion_matrix, roc_auc_score, roc_curve, auc, f1_score\n",
    "\n",
    "import warnings\n",
    "warnings.filterwarnings('ignore')\n"
   ]
  },
  {
   "cell_type": "markdown",
   "id": "5a4d90bf",
   "metadata": {},
   "source": [
    "Loading the dataframe built in EDA:"
   ]
  },
  {
   "cell_type": "code",
   "execution_count": 2,
   "id": "d3d9e708",
   "metadata": {},
   "outputs": [
    {
     "name": "stdout",
     "output_type": "stream",
     "text": [
      "(931, 23)\n",
      "Index(['Age', 'Gender', 'Country', 'family_history', 'treatment',\n",
      "       'work_interfere', 'no_employees', 'remote_work', 'benefits',\n",
      "       'care_options', 'wellness_program', 'seek_help', 'anonymity', 'leave',\n",
      "       'mental_health_consequence', 'phys_health_consequence', 'coworkers',\n",
      "       'supervisor', 'mental_health_interview', 'phys_health_interview',\n",
      "       'mental_vs_physical', 'obs_consequence', 'company_size'],\n",
      "      dtype='object')\n"
     ]
    },
    {
     "data": {
      "text/html": [
       "<div>\n",
       "<style scoped>\n",
       "    .dataframe tbody tr th:only-of-type {\n",
       "        vertical-align: middle;\n",
       "    }\n",
       "\n",
       "    .dataframe tbody tr th {\n",
       "        vertical-align: top;\n",
       "    }\n",
       "\n",
       "    .dataframe thead th {\n",
       "        text-align: right;\n",
       "    }\n",
       "</style>\n",
       "<table border=\"1\" class=\"dataframe\">\n",
       "  <thead>\n",
       "    <tr style=\"text-align: right;\">\n",
       "      <th></th>\n",
       "      <th>Age</th>\n",
       "      <th>Gender</th>\n",
       "      <th>Country</th>\n",
       "      <th>family_history</th>\n",
       "      <th>treatment</th>\n",
       "      <th>work_interfere</th>\n",
       "      <th>no_employees</th>\n",
       "      <th>remote_work</th>\n",
       "      <th>benefits</th>\n",
       "      <th>care_options</th>\n",
       "      <th>...</th>\n",
       "      <th>leave</th>\n",
       "      <th>mental_health_consequence</th>\n",
       "      <th>phys_health_consequence</th>\n",
       "      <th>coworkers</th>\n",
       "      <th>supervisor</th>\n",
       "      <th>mental_health_interview</th>\n",
       "      <th>phys_health_interview</th>\n",
       "      <th>mental_vs_physical</th>\n",
       "      <th>obs_consequence</th>\n",
       "      <th>company_size</th>\n",
       "    </tr>\n",
       "  </thead>\n",
       "  <tbody>\n",
       "    <tr>\n",
       "      <th>0</th>\n",
       "      <td>37</td>\n",
       "      <td>Female</td>\n",
       "      <td>United States</td>\n",
       "      <td>No</td>\n",
       "      <td>Yes</td>\n",
       "      <td>Often</td>\n",
       "      <td>Small</td>\n",
       "      <td>No</td>\n",
       "      <td>Yes</td>\n",
       "      <td>Not sure</td>\n",
       "      <td>...</td>\n",
       "      <td>Easy</td>\n",
       "      <td>No</td>\n",
       "      <td>No</td>\n",
       "      <td>Yes</td>\n",
       "      <td>Yes</td>\n",
       "      <td>No</td>\n",
       "      <td>Maybe</td>\n",
       "      <td>Yes</td>\n",
       "      <td>No</td>\n",
       "      <td>1</td>\n",
       "    </tr>\n",
       "    <tr>\n",
       "      <th>2</th>\n",
       "      <td>32</td>\n",
       "      <td>Male</td>\n",
       "      <td>Canada</td>\n",
       "      <td>No</td>\n",
       "      <td>No</td>\n",
       "      <td>Rarely</td>\n",
       "      <td>Small</td>\n",
       "      <td>No</td>\n",
       "      <td>No</td>\n",
       "      <td>No</td>\n",
       "      <td>...</td>\n",
       "      <td>Difficult</td>\n",
       "      <td>No</td>\n",
       "      <td>No</td>\n",
       "      <td>Yes</td>\n",
       "      <td>Yes</td>\n",
       "      <td>Yes</td>\n",
       "      <td>Yes</td>\n",
       "      <td>No</td>\n",
       "      <td>No</td>\n",
       "      <td>1</td>\n",
       "    </tr>\n",
       "    <tr>\n",
       "      <th>3</th>\n",
       "      <td>31</td>\n",
       "      <td>Male</td>\n",
       "      <td>United Kingdom</td>\n",
       "      <td>Yes</td>\n",
       "      <td>Yes</td>\n",
       "      <td>Often</td>\n",
       "      <td>Medium</td>\n",
       "      <td>No</td>\n",
       "      <td>No</td>\n",
       "      <td>Yes</td>\n",
       "      <td>...</td>\n",
       "      <td>Difficult</td>\n",
       "      <td>Yes</td>\n",
       "      <td>Yes</td>\n",
       "      <td>Yes</td>\n",
       "      <td>No</td>\n",
       "      <td>Maybe</td>\n",
       "      <td>Maybe</td>\n",
       "      <td>No</td>\n",
       "      <td>Yes</td>\n",
       "      <td>2</td>\n",
       "    </tr>\n",
       "    <tr>\n",
       "      <th>4</th>\n",
       "      <td>31</td>\n",
       "      <td>Male</td>\n",
       "      <td>United States</td>\n",
       "      <td>No</td>\n",
       "      <td>No</td>\n",
       "      <td>Never</td>\n",
       "      <td>Medium</td>\n",
       "      <td>Yes</td>\n",
       "      <td>Yes</td>\n",
       "      <td>No</td>\n",
       "      <td>...</td>\n",
       "      <td>Don't know</td>\n",
       "      <td>No</td>\n",
       "      <td>No</td>\n",
       "      <td>Yes</td>\n",
       "      <td>Yes</td>\n",
       "      <td>Yes</td>\n",
       "      <td>Yes</td>\n",
       "      <td>Don't know</td>\n",
       "      <td>No</td>\n",
       "      <td>2</td>\n",
       "    </tr>\n",
       "    <tr>\n",
       "      <th>5</th>\n",
       "      <td>33</td>\n",
       "      <td>Male</td>\n",
       "      <td>United States</td>\n",
       "      <td>Yes</td>\n",
       "      <td>No</td>\n",
       "      <td>Sometimes</td>\n",
       "      <td>Small</td>\n",
       "      <td>No</td>\n",
       "      <td>Yes</td>\n",
       "      <td>Not sure</td>\n",
       "      <td>...</td>\n",
       "      <td>Don't know</td>\n",
       "      <td>No</td>\n",
       "      <td>No</td>\n",
       "      <td>Yes</td>\n",
       "      <td>Yes</td>\n",
       "      <td>No</td>\n",
       "      <td>Maybe</td>\n",
       "      <td>Don't know</td>\n",
       "      <td>No</td>\n",
       "      <td>1</td>\n",
       "    </tr>\n",
       "  </tbody>\n",
       "</table>\n",
       "<p>5 rows × 23 columns</p>\n",
       "</div>"
      ],
      "text/plain": [
       "   Age  Gender         Country family_history treatment work_interfere  \\\n",
       "0   37  Female   United States             No       Yes          Often   \n",
       "2   32    Male          Canada             No        No         Rarely   \n",
       "3   31    Male  United Kingdom            Yes       Yes          Often   \n",
       "4   31    Male   United States             No        No          Never   \n",
       "5   33    Male   United States            Yes        No      Sometimes   \n",
       "\n",
       "  no_employees remote_work benefits care_options  ...       leave  \\\n",
       "0        Small          No      Yes     Not sure  ...        Easy   \n",
       "2        Small          No       No           No  ...   Difficult   \n",
       "3       Medium          No       No          Yes  ...   Difficult   \n",
       "4       Medium         Yes      Yes           No  ...  Don't know   \n",
       "5        Small          No      Yes     Not sure  ...  Don't know   \n",
       "\n",
       "  mental_health_consequence phys_health_consequence coworkers supervisor  \\\n",
       "0                        No                      No       Yes        Yes   \n",
       "2                        No                      No       Yes        Yes   \n",
       "3                       Yes                     Yes       Yes         No   \n",
       "4                        No                      No       Yes        Yes   \n",
       "5                        No                      No       Yes        Yes   \n",
       "\n",
       "  mental_health_interview phys_health_interview mental_vs_physical  \\\n",
       "0                      No                 Maybe                Yes   \n",
       "2                     Yes                   Yes                 No   \n",
       "3                   Maybe                 Maybe                 No   \n",
       "4                     Yes                   Yes         Don't know   \n",
       "5                      No                 Maybe         Don't know   \n",
       "\n",
       "  obs_consequence company_size  \n",
       "0              No            1  \n",
       "2              No            1  \n",
       "3             Yes            2  \n",
       "4              No            2  \n",
       "5              No            1  \n",
       "\n",
       "[5 rows x 23 columns]"
      ]
     },
     "execution_count": 2,
     "metadata": {},
     "output_type": "execute_result"
    }
   ],
   "source": [
    "df= joblib.load(\"../Models & Dataset/df.pkl\")\n",
    "print(df.shape)\n",
    "print(df.columns)\n",
    "df.head()\n"
   ]
  },
  {
   "cell_type": "markdown",
   "id": "8f73fc08",
   "metadata": {},
   "source": [
    "Defining important Features and Target variable:"
   ]
  },
  {
   "cell_type": "code",
   "execution_count": 3,
   "id": "0ae48afe",
   "metadata": {},
   "outputs": [],
   "source": [
    "X= df.drop(columns=['Country','phys_health_consequence','mental_health_interview','phys_health_interview','mental_vs_physical', 'treatment'])\n",
    "y= df['treatment']\n",
    "y= y.map({'Yes': 1, 'No': 0})\n",
    "\n",
    "\n",
    "X_train, X_test, y_train, y_test= train_test_split(X, y, test_size=0.2, random_state=42)\n"
   ]
  },
  {
   "cell_type": "code",
   "execution_count": 4,
   "id": "d311b10f",
   "metadata": {},
   "outputs": [],
   "source": [
    "# Separating numerical and categorical columns\n",
    "num_col=['Age', 'company_size']\n",
    "categ_col= ['Gender','family_history','work_interfere', 'no_employees', 'remote_work', 'benefits',\n",
    "       'care_options', 'wellness_program', 'seek_help', 'anonymity', 'leave',\n",
    "       'mental_health_consequence','coworkers','supervisor','obs_consequence']"
   ]
  },
  {
   "cell_type": "markdown",
   "id": "39e52c28",
   "metadata": {},
   "source": [
    "Preprocessing:"
   ]
  },
  {
   "cell_type": "code",
   "execution_count": 5,
   "id": "2198c98a",
   "metadata": {},
   "outputs": [],
   "source": [
    "preprocessor_standard= ColumnTransformer([(\"num\", StandardScaler(), num_col), (\"categ\", OneHotEncoder(handle_unknown='ignore'), categ_col)])\n",
    "\n",
    "preprocessor_tree= ColumnTransformer([('categ', OneHotEncoder(handle_unknown='ignore'), categ_col)])\n"
   ]
  },
  {
   "cell_type": "markdown",
   "id": "b9879ce0",
   "metadata": {},
   "source": [
    "Parameter grids of Models:"
   ]
  },
  {
   "cell_type": "code",
   "execution_count": 6,
   "id": "65074574",
   "metadata": {},
   "outputs": [],
   "source": [
    "param_grids={\n",
    "    \"Logistic Regression\": {\n",
    "        \"classifier__C\": [0.01, 0.1, 1, 10],\n",
    "        \"classifier__solver\": ['lbfgs'],\n",
    "        \"classifier__penalty\": ['l2']\n",
    "    },\n",
    "    \"Random Forest\": {\n",
    "        \"classifier__n_estimators\": [100, 200, 300],\n",
    "        \"classifier__max_depth\": [None, 5, 10],\n",
    "        \"classifier__max_features\": ['sqrt', 'log2']\n",
    "    },\n",
    "    \"SVM\": {\n",
    "        \"classifier__C\": [0.1, 1, 10],\n",
    "        \"classifier__kernel\": ['linear', 'rbf'],\n",
    "        \"classifier__gamma\": ['scale', 'auto']\n",
    "    },\n",
    "    \"KNN\": {\n",
    "        \"classifier__n_neighbors\": [3,5,7],\n",
    "        \"classifier__weights\": ['uniform', 'distance'],\n",
    "        \"classifier__p\": [1, 2]\n",
    "    }\n",
    "}"
   ]
  },
  {
   "cell_type": "markdown",
   "id": "b37a7532",
   "metadata": {},
   "source": [
    "Training & Evaluating Models:"
   ]
  },
  {
   "cell_type": "markdown",
   "id": "6b95bf34",
   "metadata": {},
   "source": [
    "Logistic Regression:"
   ]
  },
  {
   "cell_type": "code",
   "execution_count": 7,
   "id": "393ef64a",
   "metadata": {},
   "outputs": [
    {
     "name": "stdout",
     "output_type": "stream",
     "text": [
      "                 Logistic Regression\n",
      "Best Parameters:  {'classifier__C': 1, 'classifier__penalty': 'l2', 'classifier__solver': 'lbfgs'}\n",
      "Accuracy: 0.839572192513369\n",
      "ROC-AUC: 0.8811835413777163\n",
      "Confusion matrix \n",
      " [[64 20]\n",
      " [10 93]]\n",
      "Classification Report: \n",
      "                precision    recall  f1-score   support\n",
      "\n",
      "           0       0.86      0.76      0.81        84\n",
      "           1       0.82      0.90      0.86       103\n",
      "\n",
      "    accuracy                           0.84       187\n",
      "   macro avg       0.84      0.83      0.84       187\n",
      "weighted avg       0.84      0.84      0.84       187\n",
      "\n"
     ]
    }
   ],
   "source": [
    "model_probs={}\n",
    "\n",
    "pipe_lr= Pipeline([(\"preprocess\", preprocessor_standard), (\"classifier\", LogisticRegression(max_iter=500, random_state=42))])\n",
    "grid_lr= GridSearchCV(pipe_lr, param_grids[\"Logistic Regression\"], cv=5, scoring= 'roc_auc', n_jobs=-1)\n",
    "grid_lr.fit(X_train, y_train)\n",
    "best_lr = grid_lr.best_estimator_\n",
    "\n",
    "y_pred_lr= grid_lr.predict(X_test)\n",
    "y_proba_lr= grid_lr.predict_proba(X_test)[:,1]\n",
    "\n",
    "print(\"                 Logistic Regression\")\n",
    "print(\"Best Parameters: \", grid_lr.best_params_)\n",
    "print(\"Accuracy:\", accuracy_score(y_test, y_pred_lr))\n",
    "print(\"ROC-AUC:\", roc_auc_score(y_test, y_proba_lr))\n",
    "print(\"Confusion matrix \\n\" , confusion_matrix(y_test, y_pred_lr))\n",
    "print(\"Classification Report: \\n \", classification_report(y_test, y_pred_lr))\n",
    "\n",
    "model_probs[\"Logistic Regression\"]= y_proba_lr"
   ]
  },
  {
   "cell_type": "markdown",
   "id": "35b8505e",
   "metadata": {},
   "source": [
    "Random Forest:"
   ]
  },
  {
   "cell_type": "code",
   "execution_count": 8,
   "id": "5ad1b575",
   "metadata": {},
   "outputs": [
    {
     "name": "stdout",
     "output_type": "stream",
     "text": [
      "                 Random Forest\n",
      "Best Params: {'classifier__max_depth': 5, 'classifier__max_features': 'sqrt', 'classifier__n_estimators': 200}\n",
      "Accuracy: 0.8288770053475936\n",
      "ROC-AUC: 0.8839574664817383\n",
      "Confusion matrix \n",
      " [[64 20]\n",
      " [12 91]]\n",
      "Classification Report: \n",
      "                precision    recall  f1-score   support\n",
      "\n",
      "           0       0.84      0.76      0.80        84\n",
      "           1       0.82      0.88      0.85       103\n",
      "\n",
      "    accuracy                           0.83       187\n",
      "   macro avg       0.83      0.82      0.83       187\n",
      "weighted avg       0.83      0.83      0.83       187\n",
      "\n"
     ]
    }
   ],
   "source": [
    "pipe_rf = Pipeline([(\"preprocess\", preprocessor_tree), (\"classifier\", RandomForestClassifier(random_state=42))])\n",
    "grid_rf = GridSearchCV(pipe_rf, param_grids[\"Random Forest\"], cv=5, scoring='roc_auc', n_jobs=-1)\n",
    "grid_rf.fit(X_train, y_train)\n",
    "best_rf = grid_rf.best_estimator_\n",
    "\n",
    "y_pred_rf = grid_rf.predict(X_test)\n",
    "y_proba_rf = grid_rf.predict_proba(X_test)[:, 1]\n",
    "\n",
    "print(\"                 Random Forest\")\n",
    "print(\"Best Params:\", grid_rf.best_params_)\n",
    "print(\"Accuracy:\", accuracy_score(y_test, y_pred_rf))\n",
    "print(\"ROC-AUC:\", roc_auc_score(y_test, y_proba_rf))\n",
    "print(\"Confusion matrix \\n\" , confusion_matrix(y_test, y_pred_rf))\n",
    "print(\"Classification Report: \\n \",classification_report(y_test, y_pred_rf))\n",
    "\n",
    "model_probs[\"Random Forest\"] = y_proba_rf\n"
   ]
  },
  {
   "cell_type": "markdown",
   "id": "d1cc6562",
   "metadata": {},
   "source": [
    "SVM:"
   ]
  },
  {
   "cell_type": "code",
   "execution_count": 9,
   "id": "30ad3bfa",
   "metadata": {},
   "outputs": [
    {
     "name": "stdout",
     "output_type": "stream",
     "text": [
      "                            SVM\n",
      "Best Params: {'classifier__C': 1, 'classifier__gamma': 'auto', 'classifier__kernel': 'rbf'}\n",
      "Accuracy: 0.8181818181818182\n",
      "ROC-AUC: 0.8601479426722145\n",
      "Confusion matrix \n",
      " [[57 27]\n",
      " [ 7 96]]\n",
      "Classification Report: \n",
      "                precision    recall  f1-score   support\n",
      "\n",
      "           0       0.89      0.68      0.77        84\n",
      "           1       0.78      0.93      0.85       103\n",
      "\n",
      "    accuracy                           0.82       187\n",
      "   macro avg       0.84      0.81      0.81       187\n",
      "weighted avg       0.83      0.82      0.81       187\n",
      "\n"
     ]
    }
   ],
   "source": [
    "pipe_svm = Pipeline([(\"preprocess\", preprocessor_standard), (\"classifier\", SVC(probability=True, random_state=42))])\n",
    "grid_svm = GridSearchCV(pipe_svm, param_grids[\"SVM\"], cv=5, scoring='roc_auc', n_jobs=-1)\n",
    "grid_svm.fit(X_train, y_train)\n",
    "best_svm = grid_svm.best_estimator_\n",
    "\n",
    "y_pred_svm = grid_svm.predict(X_test)\n",
    "y_proba_svm = grid_svm.predict_proba(X_test)[:, 1]\n",
    "\n",
    "print(\"                            SVM\")\n",
    "print(\"Best Params:\", grid_svm.best_params_)\n",
    "print(\"Accuracy:\", accuracy_score(y_test, y_pred_svm))\n",
    "print(\"ROC-AUC:\", roc_auc_score(y_test, y_proba_svm))\n",
    "print(\"Confusion matrix \\n\" , confusion_matrix(y_test, y_pred_svm))\n",
    "print(\"Classification Report: \\n \", classification_report(y_test, y_pred_svm))\n",
    "\n",
    "model_probs[\"SVM\"] = y_proba_svm"
   ]
  },
  {
   "cell_type": "markdown",
   "id": "b5e42625",
   "metadata": {},
   "source": [
    "KNN:"
   ]
  },
  {
   "cell_type": "code",
   "execution_count": 10,
   "id": "976b32e5",
   "metadata": {},
   "outputs": [
    {
     "name": "stdout",
     "output_type": "stream",
     "text": [
      "                         KNN\n",
      "Best Params: {'classifier__n_neighbors': 7, 'classifier__p': 1, 'classifier__weights': 'distance'}\n",
      "Accuracy: 0.7433155080213903\n",
      "ROC-AUC: 0.8040915395284327\n",
      "Confusion matrix \n",
      " [[65 19]\n",
      " [29 74]]\n",
      "Classification Report: \n",
      "                precision    recall  f1-score   support\n",
      "\n",
      "           0       0.69      0.77      0.73        84\n",
      "           1       0.80      0.72      0.76       103\n",
      "\n",
      "    accuracy                           0.74       187\n",
      "   macro avg       0.74      0.75      0.74       187\n",
      "weighted avg       0.75      0.74      0.74       187\n",
      "\n"
     ]
    }
   ],
   "source": [
    "pipe_knn = Pipeline([(\"preprocess\", preprocessor_standard), (\"classifier\", KNeighborsClassifier())])\n",
    "grid_knn = GridSearchCV(pipe_knn, param_grids[\"KNN\"], cv=5, scoring='roc_auc', n_jobs=-1)\n",
    "grid_knn.fit(X_train, y_train)\n",
    "best_knn = grid_knn.best_estimator_\n",
    "\n",
    "y_pred_knn = grid_knn.predict(X_test)\n",
    "y_proba_knn = grid_knn.predict_proba(X_test)[:, 1]\n",
    "\n",
    "print(\"                         KNN\")\n",
    "print(\"Best Params:\", grid_knn.best_params_)\n",
    "print(\"Accuracy:\", accuracy_score(y_test, y_pred_knn))\n",
    "print(\"ROC-AUC:\", roc_auc_score(y_test, y_proba_knn))\n",
    "\n",
    "print(\"Confusion matrix \\n\" , confusion_matrix(y_test, y_pred_knn))\n",
    "print(\"Classification Report: \\n \", classification_report(y_test, y_pred_knn))\n",
    "\n",
    "model_probs[\"KNN\"] = y_proba_knn\n"
   ]
  },
  {
   "cell_type": "markdown",
   "id": "88c8a55b",
   "metadata": {},
   "source": [
    "Comparison of the models:"
   ]
  },
  {
   "cell_type": "code",
   "execution_count": 11,
   "id": "f883e235",
   "metadata": {},
   "outputs": [
    {
     "data": {
      "image/png": "[encoded data removed]",
      "text/plain": [
       "<Figure size 1000x700 with 1 Axes>"
      ]
     },
     "metadata": {},
     "output_type": "display_data"
    }
   ],
   "source": [
    "plt.figure(figsize=(10,7))\n",
    "for name, probs in model_probs.items():\n",
    "    fpr, tpr, _= roc_curve(y_test, probs)\n",
    "    roc_auc=auc(fpr, tpr)\n",
    "    plt.plot(fpr, tpr, lw=2, label=f\"{name}(AUC= {roc_auc:.3f})\")\n",
    "\n",
    "plt.plot([0,1], [0,1], linestyle='--', color='gray')\n",
    "plt.xlim([0,1])\n",
    "plt.ylim([0,1.05])\n",
    "plt.xlabel('False Positive Rate')\n",
    "plt.ylabel('True Positive Rate')\n",
    "plt.title('ROC Curve Comparison')\n",
    "plt.legend(loc=\"lower right\")\n",
    "plt.grid(True)\n",
    "plt.show()\n",
    "\n"
   ]
  },
  {
   "cell_type": "code",
   "execution_count": 12,
   "id": "e34e7ccb",
   "metadata": {},
   "outputs": [
    {
     "data": {
      "text/plain": [
       "['../Models & Dataset/classification_model.pkl']"
      ]
     },
     "execution_count": 12,
     "metadata": {},
     "output_type": "execute_result"
    }
   ],
   "source": [
    "joblib.dump(best_rf, '../Models & Dataset/classification_model.pkl')"
   ]
  }
 ],
 "metadata": {
  "kernelspec": {
   "display_name": "Python 3",
   "language": "python",
   "name": "python3"
  },
  "language_info": {
   "codemirror_mode": {
    "name": "ipython",
    "version": 3
   },
   "file_extension": ".py",
   "mimetype": "text/x-python",
   "name": "python",
   "nbconvert_exporter": "python",
   "pygments_lexer": "ipython3",
   "version": "3.13.2"
  }
 },
 "nbformat": 4,
 "nbformat_minor": 5
}
